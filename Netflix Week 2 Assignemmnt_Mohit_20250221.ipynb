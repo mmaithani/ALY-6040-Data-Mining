{
 "cells": [
  {
   "cell_type": "markdown",
   "metadata": {},
   "source": [
    "# NETFLIX WEEK 2"
   ]
  },
  {
   "cell_type": "code",
   "execution_count": 1,
   "metadata": {},
   "outputs": [
    {
     "name": "stdout",
     "output_type": "stream",
     "text": [
      "<class 'pandas.core.frame.DataFrame'>\n",
      "RangeIndex: 50000 entries, 0 to 49999\n",
      "Data columns (total 11 columns):\n",
      " #   Column                             Non-Null Count  Dtype \n",
      "---  ------                             --------------  ----- \n",
      " 0   Email_ID                           50000 non-null  int64 \n",
      " 1   Age_Group                          50000 non-null  object\n",
      " 2   Gender                             45000 non-null  object\n",
      " 3   Region                             50000 non-null  object\n",
      " 4   Device_Used                        45000 non-null  object\n",
      " 5   Previous_Hulu_Subscription_Length  50000 non-null  int64 \n",
      " 6   Preferred_Genre                    50000 non-null  object\n",
      " 7   Subscription_Status                50000 non-null  object\n",
      " 8   Hulu_Watch_Time                    50000 non-null  int64 \n",
      " 9   Hulu_Subscription_Date             50000 non-null  object\n",
      " 10  Hulu_Cancellation_Date             24959 non-null  object\n",
      "dtypes: int64(3), object(8)\n",
      "memory usage: 4.2+ MB\n"
     ]
    },
    {
     "data": {
      "text/plain": [
       "(None,\n",
       "    Email_ID Age_Group       Gender         Region Device_Used  \\\n",
       " 0         1     35-44       Female           Asia      Tablet   \n",
       " 1         2     18-24         Male  South America          TV   \n",
       " 2         3       55+       Female           Asia         NaN   \n",
       " 3         4     35-44  Undisclosed  North America      Tablet   \n",
       " 4         5     25-34       Female  North America      Tablet   \n",
       " \n",
       "    Previous_Hulu_Subscription_Length Preferred_Genre Subscription_Status  \\\n",
       " 0                                 29          Action      Not Subscribed   \n",
       " 1                                 52           Drama      Not Subscribed   \n",
       " 2                                 17        Thriller      Not Subscribed   \n",
       " 3                                 39        Thriller          Subscribed   \n",
       " 4                                 56          Comedy      Not Subscribed   \n",
       " \n",
       "    Hulu_Watch_Time Hulu_Subscription_Date Hulu_Cancellation_Date  \n",
       " 0            38590             2021-11-01             2022-10-20  \n",
       " 1             6870             2022-07-31             2023-07-29  \n",
       " 2            13551             2022-08-24             2023-02-07  \n",
       " 3             2401             2022-04-25             2024-04-18  \n",
       " 4            61499             2022-01-05             2024-01-03  )"
      ]
     },
     "execution_count": 1,
     "metadata": {},
     "output_type": "execute_result"
    }
   ],
   "source": [
    "import pandas as pd\n",
    "\n",
    "# Load the dataset\n",
    "hulu_data = pd.read_csv(\"netflix_week2.csv\")\n",
    "\n",
    "# Display the first few rows of the dataset and the general information about the data\n",
    "hulu_data.info(), hulu_data.head()"
   ]
  },
  {
   "cell_type": "code",
   "execution_count": null,
   "metadata": {},
   "outputs": [],
   "source": []
  }
 ],
 "metadata": {
  "kernelspec": {
   "display_name": "Python 3",
   "language": "python",
   "name": "python3"
  },
  "language_info": {
   "codemirror_mode": {
    "name": "ipython",
    "version": 3
   },
   "file_extension": ".py",
   "mimetype": "text/x-python",
   "name": "python",
   "nbconvert_exporter": "python",
   "pygments_lexer": "ipython3",
   "version": "3.12.9"
  }
 },
 "nbformat": 4,
 "nbformat_minor": 2
}
